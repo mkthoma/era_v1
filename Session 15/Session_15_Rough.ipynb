{
  "nbformat": 4,
  "nbformat_minor": 0,
  "metadata": {
    "colab": {
      "provenance": []
    },
    "kernelspec": {
      "name": "python3",
      "display_name": "Python 3"
    },
    "language_info": {
      "name": "python"
    }
  },
  "cells": [
    {
      "cell_type": "code",
      "execution_count": null,
      "metadata": {
        "id": "N8m1tR8KtESE"
      },
      "outputs": [],
      "source": [
        "from config import get_config\n",
        "cfg = get_config()\n",
        "cfg['batch_size'] = 6\n",
        "cfg['preload'] = None\n",
        "cfg['num_epochs'] = 30\n",
        "\n",
        "from train import train_model\n",
        "\n",
        "train_model(cfg)\n",
        "\n",
        "\n"
      ]
    }
  ]
}
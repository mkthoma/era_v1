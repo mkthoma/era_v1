{
 "cells": [
  {
   "cell_type": "code",
   "execution_count": 1,
   "metadata": {
    "id": "0m2JWFliFfKT"
   },
   "outputs": [],
   "source": [
    "from __future__ import print_function\n",
    "import torch\n",
    "import torch.nn as nn\n",
    "import torch.nn.functional as F\n",
    "import torch.optim as optim\n",
    "from torchvision import datasets, transforms"
   ]
  },
  {
   "cell_type": "code",
   "execution_count": 5,
   "metadata": {
    "id": "qCe9aHYxoLWk"
   },
   "outputs": [],
   "source": [
    "# Defining the neural network model\n",
    "class Net(nn.Module):\n",
    "    def __init__(self):\n",
    "        super(Net, self).__init__()\n",
    "        self.conv1 = nn.Conv2d(in_channels=1, out_channels=8, kernel_size=3, padding=1) \n",
    "        self.bn1 = nn.BatchNorm2d(num_features=8)\n",
    "        self.tns1 = nn.Conv2d(in_channels=8, out_channels=4, kernel_size=1, padding=1)\n",
    "        self.conv2 = nn.Conv2d(in_channels=4, out_channels=8, kernel_size=3, padding=1) \n",
    "        self.bn2 = nn.BatchNorm2d(num_features=8)  \n",
    "        self.pool1 = nn.MaxPool2d(2, 2)   \n",
    "        self.conv3 = nn.Conv2d(in_channels=8, out_channels=16, kernel_size=3, padding=1) \n",
    "        self.bn3 = nn.BatchNorm2d(num_features=16) \n",
    "        self.conv4 = nn.Conv2d(in_channels=16, out_channels=32, kernel_size=3, padding=1) \n",
    "        self.bn4 = nn.BatchNorm2d(num_features=32)\n",
    "        self.pool2 = nn.MaxPool2d(2, 2) \n",
    "        self.tns2 = nn.Conv2d(in_channels=32, out_channels=16, kernel_size=1, padding=1)\n",
    "        self.conv5 = nn.Conv2d(in_channels=16, out_channels=64, kernel_size=3, padding=1) \n",
    "        self.bn5 = nn.BatchNorm2d(num_features=64) \n",
    "        self.conv6 = nn.Conv2d(in_channels=64, out_channels=10, kernel_size=1, padding=1)    \n",
    "        self.gpool = nn.AvgPool2d(kernel_size=7)\n",
    "        self.drop = nn.Dropout2d(0.1)\n",
    "\n",
    "    def forward(self, x):\n",
    "        x = self.tns1(self.drop(self.bn1(F.relu(self.conv1(x)))))\n",
    "        x = self.drop(self.bn2(F.relu(self.conv2(x))))\n",
    "        x = self.pool1(x)\n",
    "        x = self.drop(self.bn3(F.relu(self.conv3(x))))        \n",
    "        x = self.drop(self.bn4(F.relu(self.conv4(x))))\n",
    "        x = self.tns2(self.pool2(x))\n",
    "        x = self.drop(self.bn5(F.relu(self.conv5(x))))\n",
    "        x = self.conv6(x)\n",
    "        x = self.gpool(x)\n",
    "        x = x.view(-1, 10)\n",
    "        return F.log_softmax(x)\n"
   ]
  },
  {
   "cell_type": "code",
   "execution_count": 6,
   "metadata": {
    "colab": {
     "base_uri": "https://localhost:8080/"
    },
    "id": "xdydjYTZFyi3",
    "outputId": "08eaa2a1-82c5-4baa-ad46-6a2a011f27a4"
   },
   "outputs": [
    {
     "name": "stdout",
     "output_type": "stream",
     "text": [
      "----------------------------------------------------------------\n",
      "        Layer (type)               Output Shape         Param #\n",
      "================================================================\n",
      "            Conv2d-1            [-1, 8, 28, 28]              80\n",
      "       BatchNorm2d-2            [-1, 8, 28, 28]              16\n",
      "         Dropout2d-3            [-1, 8, 28, 28]               0\n",
      "            Conv2d-4            [-1, 4, 30, 30]              36\n",
      "            Conv2d-5            [-1, 8, 30, 30]             296\n",
      "       BatchNorm2d-6            [-1, 8, 30, 30]              16\n",
      "         Dropout2d-7            [-1, 8, 30, 30]               0\n",
      "         MaxPool2d-8            [-1, 8, 15, 15]               0\n",
      "            Conv2d-9           [-1, 16, 15, 15]           1,168\n",
      "      BatchNorm2d-10           [-1, 16, 15, 15]              32\n",
      "        Dropout2d-11           [-1, 16, 15, 15]               0\n",
      "           Conv2d-12           [-1, 32, 15, 15]           4,640\n",
      "      BatchNorm2d-13           [-1, 32, 15, 15]              64\n",
      "        Dropout2d-14           [-1, 32, 15, 15]               0\n",
      "        MaxPool2d-15             [-1, 32, 7, 7]               0\n",
      "           Conv2d-16             [-1, 16, 9, 9]             528\n",
      "           Conv2d-17             [-1, 64, 9, 9]           9,280\n",
      "      BatchNorm2d-18             [-1, 64, 9, 9]             128\n",
      "        Dropout2d-19             [-1, 64, 9, 9]               0\n",
      "           Conv2d-20           [-1, 10, 11, 11]             650\n",
      "        AvgPool2d-21             [-1, 10, 1, 1]               0\n",
      "================================================================\n",
      "Total params: 16,934\n",
      "Trainable params: 16,934\n",
      "Non-trainable params: 0\n",
      "----------------------------------------------------------------\n",
      "Input size (MB): 0.00\n",
      "Forward/backward pass size (MB): 0.75\n",
      "Params size (MB): 0.06\n",
      "Estimated Total Size (MB): 0.81\n",
      "----------------------------------------------------------------\n"
     ]
    },
    {
     "name": "stderr",
     "output_type": "stream",
     "text": [
      "<ipython-input-5-2299abe4ccf7>:36: UserWarning: Implicit dimension choice for log_softmax has been deprecated. Change the call to include dim=X as an argument.\n",
      "  return F.log_softmax(x)\n"
     ]
    }
   ],
   "source": [
    "# Setting the device as CUDA if available or else CPU and then generating the model summary for the number of parameters.\n",
    "!pip install torchsummary\n",
    "from torchsummary import summary\n",
    "use_cuda = torch.cuda.is_available()\n",
    "device = torch.device(\"cuda\" if use_cuda else \"cpu\")\n",
    "model = Net().to(device)\n",
    "summary(model, input_size=(1, 28, 28))"
   ]
  },
  {
   "cell_type": "code",
   "execution_count": 7,
   "metadata": {
    "id": "DqTWLaM5GHgH"
   },
   "outputs": [],
   "source": [
    "torch.manual_seed(1)\n",
    "# setting the batch size for each epoch\n",
    "batch_size = 64\n",
    "\n",
    "# Defining the train and test data loaders and the different transformations that need to be applied.\n",
    "# Here we are converting the images to tensors and standarding the values between 0 and 1 based on the mean and standard deviation.\n",
    "kwargs = {'num_workers': 1, 'pin_memory': True} if use_cuda else {}\n",
    "train_loader = torch.utils.data.DataLoader(\n",
    "    datasets.MNIST('../data', train=True, download=True,\n",
    "                    transform=transforms.Compose([\n",
    "                        transforms.ToTensor(),\n",
    "                        transforms.Normalize((0.1307,), (0.3081,))\n",
    "                    ])),\n",
    "    batch_size=batch_size, shuffle=True, **kwargs)\n",
    "test_loader = torch.utils.data.DataLoader(\n",
    "    datasets.MNIST('../data', train=False, transform=transforms.Compose([\n",
    "                        transforms.ToTensor(),\n",
    "                        transforms.Normalize((0.1307,), (0.3081,))\n",
    "                    ])),\n",
    "    batch_size=batch_size, shuffle=True, **kwargs)"
   ]
  },
  {
   "cell_type": "code",
   "execution_count": 8,
   "metadata": {
    "id": "8fDefDhaFlwH"
   },
   "outputs": [],
   "source": [
    "# Defining the train function which has the optimizer for gradients which is back propogated based on the negative log likelihood.\n",
    "from tqdm import tqdm\n",
    "def train(model, device, train_loader, optimizer, epoch):\n",
    "    model.train()\n",
    "    pbar = tqdm(train_loader)\n",
    "    for batch_idx, (data, target) in enumerate(pbar):\n",
    "        data, target = data.to(device), target.to(device)\n",
    "        optimizer.zero_grad()\n",
    "        output = model(data)\n",
    "        loss = F.nll_loss(output, target)\n",
    "        loss.backward()\n",
    "        optimizer.step()\n",
    "        pbar.set_description(desc= f'loss={loss.item()} batch_id={batch_idx}')\n",
    "\n",
    "# Defining the test function to make predictions and calculate the accuracy based on the predictions and the targets\n",
    "def test(model, device, test_loader):\n",
    "    model.eval()\n",
    "    test_loss = 0\n",
    "    correct = 0\n",
    "    with torch.no_grad():\n",
    "        for data, target in test_loader:\n",
    "            data, target = data.to(device), target.to(device)\n",
    "            output = model(data)\n",
    "            test_loss += F.nll_loss(output, target, reduction='sum').item()  # sum up batch loss\n",
    "            pred = output.argmax(dim=1, keepdim=True)  # get the index of the max log-probability\n",
    "            correct += pred.eq(target.view_as(pred)).sum().item()\n",
    "\n",
    "    test_loss /= len(test_loader.dataset)\n",
    "\n",
    "    print('\\nTest set: Average loss: {:.4f}, Accuracy: {}/{} ({:.1f}%)\\n'.format(\n",
    "        test_loss, correct, len(test_loader.dataset),\n",
    "        100. * correct / len(test_loader.dataset)))"
   ]
  },
  {
   "cell_type": "code",
   "execution_count": 9,
   "metadata": {
    "colab": {
     "base_uri": "https://localhost:8080/"
    },
    "id": "MMWbLWO6FuHb",
    "outputId": "fb355138-ebe8-4885-c9cc-c81efeb0dab6"
   },
   "outputs": [
    {
     "name": "stdout",
     "output_type": "stream",
     "text": [
      "Epoch- 0\n"
     ]
    },
    {
     "name": "stderr",
     "output_type": "stream",
     "text": [
      "  0%|          | 0/938 [00:00<?, ?it/s]<ipython-input-5-2299abe4ccf7>:36: UserWarning: Implicit dimension choice for log_softmax has been deprecated. Change the call to include dim=X as an argument.\n",
      "  return F.log_softmax(x)\n",
      "loss=0.10178203135728836 batch_id=937: 100%|██████████| 938/938 [00:29<00:00, 32.12it/s]\n"
     ]
    },
    {
     "name": "stdout",
     "output_type": "stream",
     "text": [
      "\n",
      "Test set: Average loss: 0.1005, Accuracy: 9728/10000 (97.3%)\n",
      "\n",
      "Epoch- 1\n"
     ]
    },
    {
     "name": "stderr",
     "output_type": "stream",
     "text": [
      "loss=0.11127413064241409 batch_id=937: 100%|██████████| 938/938 [00:26<00:00, 35.55it/s]\n"
     ]
    },
    {
     "name": "stdout",
     "output_type": "stream",
     "text": [
      "\n",
      "Test set: Average loss: 0.0531, Accuracy: 9843/10000 (98.4%)\n",
      "\n",
      "Epoch- 2\n"
     ]
    },
    {
     "name": "stderr",
     "output_type": "stream",
     "text": [
      "loss=0.05351145192980766 batch_id=937: 100%|██████████| 938/938 [00:28<00:00, 33.26it/s]\n"
     ]
    },
    {
     "name": "stdout",
     "output_type": "stream",
     "text": [
      "\n",
      "Test set: Average loss: 0.0390, Accuracy: 9878/10000 (98.8%)\n",
      "\n",
      "Epoch- 3\n"
     ]
    },
    {
     "name": "stderr",
     "output_type": "stream",
     "text": [
      "loss=0.011904725804924965 batch_id=937: 100%|██████████| 938/938 [00:27<00:00, 34.54it/s]\n"
     ]
    },
    {
     "name": "stdout",
     "output_type": "stream",
     "text": [
      "\n",
      "Test set: Average loss: 0.0353, Accuracy: 9896/10000 (99.0%)\n",
      "\n",
      "Epoch- 4\n"
     ]
    },
    {
     "name": "stderr",
     "output_type": "stream",
     "text": [
      "loss=0.1347673535346985 batch_id=937: 100%|██████████| 938/938 [00:26<00:00, 34.91it/s]\n"
     ]
    },
    {
     "name": "stdout",
     "output_type": "stream",
     "text": [
      "\n",
      "Test set: Average loss: 0.0294, Accuracy: 9909/10000 (99.1%)\n",
      "\n",
      "Epoch- 5\n"
     ]
    },
    {
     "name": "stderr",
     "output_type": "stream",
     "text": [
      "loss=0.040668558329343796 batch_id=937: 100%|██████████| 938/938 [00:29<00:00, 32.27it/s]\n"
     ]
    },
    {
     "name": "stdout",
     "output_type": "stream",
     "text": [
      "\n",
      "Test set: Average loss: 0.0275, Accuracy: 9917/10000 (99.2%)\n",
      "\n",
      "Epoch- 6\n"
     ]
    },
    {
     "name": "stderr",
     "output_type": "stream",
     "text": [
      "loss=0.018229253590106964 batch_id=937: 100%|██████████| 938/938 [00:26<00:00, 35.61it/s]\n"
     ]
    },
    {
     "name": "stdout",
     "output_type": "stream",
     "text": [
      "\n",
      "Test set: Average loss: 0.0269, Accuracy: 9917/10000 (99.2%)\n",
      "\n",
      "Epoch- 7\n"
     ]
    },
    {
     "name": "stderr",
     "output_type": "stream",
     "text": [
      "loss=0.0366809107363224 batch_id=937: 100%|██████████| 938/938 [00:28<00:00, 33.19it/s]\n"
     ]
    },
    {
     "name": "stdout",
     "output_type": "stream",
     "text": [
      "\n",
      "Test set: Average loss: 0.0242, Accuracy: 9925/10000 (99.2%)\n",
      "\n",
      "Epoch- 8\n"
     ]
    },
    {
     "name": "stderr",
     "output_type": "stream",
     "text": [
      "loss=0.021642185747623444 batch_id=937: 100%|██████████| 938/938 [00:26<00:00, 35.44it/s]\n"
     ]
    },
    {
     "name": "stdout",
     "output_type": "stream",
     "text": [
      "\n",
      "Test set: Average loss: 0.0222, Accuracy: 9924/10000 (99.2%)\n",
      "\n",
      "Epoch- 9\n"
     ]
    },
    {
     "name": "stderr",
     "output_type": "stream",
     "text": [
      "loss=0.008261444978415966 batch_id=937: 100%|██████████| 938/938 [00:25<00:00, 36.80it/s]\n"
     ]
    },
    {
     "name": "stdout",
     "output_type": "stream",
     "text": [
      "\n",
      "Test set: Average loss: 0.0210, Accuracy: 9930/10000 (99.3%)\n",
      "\n",
      "Epoch- 10\n"
     ]
    },
    {
     "name": "stderr",
     "output_type": "stream",
     "text": [
      "loss=0.004278500564396381 batch_id=937: 100%|██████████| 938/938 [00:25<00:00, 36.14it/s]\n"
     ]
    },
    {
     "name": "stdout",
     "output_type": "stream",
     "text": [
      "\n",
      "Test set: Average loss: 0.0198, Accuracy: 9935/10000 (99.3%)\n",
      "\n",
      "Epoch- 11\n"
     ]
    },
    {
     "name": "stderr",
     "output_type": "stream",
     "text": [
      "loss=0.012094561941921711 batch_id=937: 100%|██████████| 938/938 [00:25<00:00, 36.74it/s]\n"
     ]
    },
    {
     "name": "stdout",
     "output_type": "stream",
     "text": [
      "\n",
      "Test set: Average loss: 0.0203, Accuracy: 9935/10000 (99.3%)\n",
      "\n",
      "Epoch- 12\n"
     ]
    },
    {
     "name": "stderr",
     "output_type": "stream",
     "text": [
      "loss=0.0033878195099532604 batch_id=937: 100%|██████████| 938/938 [00:26<00:00, 35.63it/s]\n"
     ]
    },
    {
     "name": "stdout",
     "output_type": "stream",
     "text": [
      "\n",
      "Test set: Average loss: 0.0195, Accuracy: 9936/10000 (99.4%)\n",
      "\n",
      "Epoch- 13\n"
     ]
    },
    {
     "name": "stderr",
     "output_type": "stream",
     "text": [
      "loss=0.004257735330611467 batch_id=937: 100%|██████████| 938/938 [00:24<00:00, 38.62it/s]\n"
     ]
    },
    {
     "name": "stdout",
     "output_type": "stream",
     "text": [
      "\n",
      "Test set: Average loss: 0.0188, Accuracy: 9939/10000 (99.4%)\n",
      "\n",
      "Epoch- 14\n"
     ]
    },
    {
     "name": "stderr",
     "output_type": "stream",
     "text": [
      "loss=0.028146646916866302 batch_id=937: 100%|██████████| 938/938 [00:24<00:00, 38.57it/s]\n"
     ]
    },
    {
     "name": "stdout",
     "output_type": "stream",
     "text": [
      "\n",
      "Test set: Average loss: 0.0216, Accuracy: 9929/10000 (99.3%)\n",
      "\n",
      "Epoch- 15\n"
     ]
    },
    {
     "name": "stderr",
     "output_type": "stream",
     "text": [
      "loss=0.010897034779191017 batch_id=937: 100%|██████████| 938/938 [00:23<00:00, 39.34it/s]\n"
     ]
    },
    {
     "name": "stdout",
     "output_type": "stream",
     "text": [
      "\n",
      "Test set: Average loss: 0.0187, Accuracy: 9940/10000 (99.4%)\n",
      "\n",
      "Epoch- 16\n"
     ]
    },
    {
     "name": "stderr",
     "output_type": "stream",
     "text": [
      "loss=0.006733838468790054 batch_id=937: 100%|██████████| 938/938 [00:23<00:00, 39.63it/s]\n"
     ]
    },
    {
     "name": "stdout",
     "output_type": "stream",
     "text": [
      "\n",
      "Test set: Average loss: 0.0192, Accuracy: 9929/10000 (99.3%)\n",
      "\n",
      "Epoch- 17\n"
     ]
    },
    {
     "name": "stderr",
     "output_type": "stream",
     "text": [
      "loss=0.0043948316015303135 batch_id=937: 100%|██████████| 938/938 [00:23<00:00, 39.14it/s]\n"
     ]
    },
    {
     "name": "stdout",
     "output_type": "stream",
     "text": [
      "\n",
      "Test set: Average loss: 0.0192, Accuracy: 9933/10000 (99.3%)\n",
      "\n",
      "Epoch- 18\n"
     ]
    },
    {
     "name": "stderr",
     "output_type": "stream",
     "text": [
      "loss=0.004224067088216543 batch_id=937: 100%|██████████| 938/938 [00:23<00:00, 39.17it/s]\n"
     ]
    },
    {
     "name": "stdout",
     "output_type": "stream",
     "text": [
      "\n",
      "Test set: Average loss: 0.0177, Accuracy: 9947/10000 (99.5%)\n",
      "\n",
      "Epoch- 19\n"
     ]
    },
    {
     "name": "stderr",
     "output_type": "stream",
     "text": [
      "loss=0.036723729223012924 batch_id=937: 100%|██████████| 938/938 [00:24<00:00, 38.40it/s]\n"
     ]
    },
    {
     "name": "stdout",
     "output_type": "stream",
     "text": [
      "\n",
      "Test set: Average loss: 0.0184, Accuracy: 9938/10000 (99.4%)\n",
      "\n"
     ]
    }
   ],
   "source": [
    "# Sending the model to the device and setting the optimizer with default values\n",
    "model = Net().to(device)\n",
    "optimizer = optim.SGD(model.parameters(), lr=0.01, momentum=0.9)\n",
    "\n",
    "# iterating through each epoch and passing the data to the train and test functions and printing the accuracy.\n",
    "for epoch in range(0, 20):\n",
    "    print(\"Epoch-\", epoch)\n",
    "    train(model, device, train_loader, optimizer, epoch)\n",
    "    test(model, device, test_loader)"
   ]
  }
 ],
 "metadata": {
  "accelerator": "GPU",
  "colab": {
   "gpuType": "T4",
   "provenance": []
  },
  "kernelspec": {
   "display_name": "Python 3 (ipykernel)",
   "language": "python",
   "name": "python3"
  },
  "language_info": {
   "codemirror_mode": {
    "name": "ipython",
    "version": 3
   },
   "file_extension": ".py",
   "mimetype": "text/x-python",
   "name": "python",
   "nbconvert_exporter": "python",
   "pygments_lexer": "ipython3",
   "version": "3.10.9"
  }
 },
 "nbformat": 4,
 "nbformat_minor": 1
}
